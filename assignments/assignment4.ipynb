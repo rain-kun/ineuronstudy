{
 "cells": [
  {
   "cell_type": "markdown",
   "metadata": {},
   "source": [
    "## Question1\n",
    "### 1.1 Area of the triangle"
   ]
  },
  {
   "cell_type": "code",
   "execution_count": 90,
   "metadata": {},
   "outputs": [],
   "source": [
    "class Side:\n",
    "    def __init__(this, a , b, c):\n",
    "        this.a = a\n",
    "        this.b = b\n",
    "        this.c = c\n",
    "        this.s = (a + b + c)/2\n",
    "\n",
    "        \n",
    "class Triangle(Side):\n",
    "    def __init__(this, *args):\n",
    "       super(Triangle,this).__init__(*args)\n",
    "        \n",
    "    def Triarea(this):\n",
    "        return (this.s*(this.s-this.a)*(this.s-this.b)*(this.s-this.c)) ** 0.5"
   ]
  },
  {
   "cell_type": "code",
   "execution_count": 91,
   "metadata": {},
   "outputs": [
    {
     "name": "stdout",
     "output_type": "stream",
     "text": [
      "side: a=5.0 b=5.0 c=5.0 s=7.5 Area=10.825317547305483\n"
     ]
    }
   ],
   "source": [
    "T = Triangle(5.0,5.0,5.0)\n",
    "print (\"side: a={} b={} c={} s={} Area={}\".format(T.a, T.b, T.c,T.s, T.Triarea()))"
   ]
  },
  {
   "cell_type": "markdown",
   "metadata": {},
   "source": [
    "### 1.2 "
   ]
  },
  {
   "cell_type": "code",
   "execution_count": 92,
   "metadata": {},
   "outputs": [],
   "source": [
    "def filter_long_words(lis, n):\n",
    "    mylis = []\n",
    "    for x in lis:\n",
    "        if len(x) > n:\n",
    "            mylis.append(x)\n",
    "    return mylis\n",
    "    "
   ]
  },
  {
   "cell_type": "code",
   "execution_count": 93,
   "metadata": {},
   "outputs": [
    {
     "data": {
      "text/plain": [
       "['erty', 'yess']"
      ]
     },
     "execution_count": 93,
     "metadata": {},
     "output_type": "execute_result"
    }
   ],
   "source": [
    "\n",
    "filter_long_words(lis1, 3)"
   ]
  },
  {
   "cell_type": "markdown",
   "metadata": {},
   "source": [
    "# Question 2\n",
    "### 2.1"
   ]
  },
  {
   "cell_type": "code",
   "execution_count": 97,
   "metadata": {},
   "outputs": [],
   "source": [
    "lis1 = [ \"ab\",\"cde\",\"erty\", \"yess\"]\n",
    "def map_lenof_words(lis):\n",
    "    mylis = []\n",
    "    for x in lis:\n",
    "        mylis.append(len(x))\n",
    "    return mylis\n",
    "    "
   ]
  },
  {
   "cell_type": "code",
   "execution_count": 98,
   "metadata": {},
   "outputs": [
    {
     "data": {
      "text/plain": [
       "[2, 3, 4, 4]"
      ]
     },
     "execution_count": 98,
     "metadata": {},
     "output_type": "execute_result"
    }
   ],
   "source": [
    "map_lenof_words(lis1)"
   ]
  },
  {
   "cell_type": "markdown",
   "metadata": {},
   "source": [
    "### 2.2"
   ]
  },
  {
   "cell_type": "code",
   "execution_count": 99,
   "metadata": {},
   "outputs": [
    {
     "name": "stdout",
     "output_type": "stream",
     "text": [
      "True\n"
     ]
    },
    {
     "data": {
      "text/plain": [
       "True"
      ]
     },
     "execution_count": 99,
     "metadata": {},
     "output_type": "execute_result"
    }
   ],
   "source": [
    "\n",
    "vovels = ['a','e', 'i', 'o', 'u']\n",
    "\n",
    "# with normal function\n",
    "def checkvovel(x):\n",
    "    return True if x in vovels else False\n",
    "\n",
    "print(checkvovel('i'))\n",
    "\n",
    "# with lambda function\n",
    "func = lambda x: True if x in vovels else False\n",
    "\n",
    "func('i')"
   ]
  }
 ],
 "metadata": {
  "kernelspec": {
   "display_name": "Python 3",
   "language": "python",
   "name": "python3"
  },
  "language_info": {
   "codemirror_mode": {
    "name": "ipython",
    "version": 3
   },
   "file_extension": ".py",
   "mimetype": "text/x-python",
   "name": "python",
   "nbconvert_exporter": "python",
   "pygments_lexer": "ipython3",
   "version": "3.8.5"
  }
 },
 "nbformat": 4,
 "nbformat_minor": 4
}
