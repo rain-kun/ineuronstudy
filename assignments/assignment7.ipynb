{
 "cells": [
  {
   "cell_type": "code",
   "execution_count": 1,
   "metadata": {},
   "outputs": [],
   "source": [
    "import pandas as pd\n",
    "import numpy as np"
   ]
  },
  {
   "cell_type": "code",
   "execution_count": 73,
   "metadata": {},
   "outputs": [
    {
     "name": "stdout",
     "output_type": "stream",
     "text": [
      "<class 'numpy.ndarray'>\n",
      "\n",
      "[array([3, 5, 7]), array([5, 7, 2]), array([7, 2, 8]), array([ 2,  8, 10]), array([ 8, 10, 11]), array([10, 11, 65]), array([11, 65, 72]), array([65, 72, 81]), array([72, 81, 99]), array([ 81,  99, 100]), array([ 99, 100, 150])]\n",
      "\n"
     ]
    },
    {
     "data": {
      "text/plain": [
       "[5.0,\n",
       " 4.666666666666667,\n",
       " 5.666666666666667,\n",
       " 6.666666666666667,\n",
       " 9.666666666666666,\n",
       " 28.666666666666668,\n",
       " 49.333333333333336,\n",
       " 72.66666666666667,\n",
       " 84.0,\n",
       " 93.33333333333333,\n",
       " 116.33333333333333]"
      ]
     },
     "execution_count": 73,
     "metadata": {},
     "output_type": "execute_result"
    }
   ],
   "source": [
    "lis = np.array([3, 5, 7, 2, 8, 10, 11, 65, 72, 81, 99, 100, 150])\n",
    "\n",
    "print(type(lis), end=\"\\n\\n\")\n",
    "\n",
    "w = 3 #window\n",
    "\n",
    "\n",
    "def movingaverage(lis, w):\n",
    "    \n",
    "    n=len(lis)-k+1\n",
    "    lisf = np.array([[lis[v+t] for t in range(w)  ]for v in range(n)])\n",
    "    print([lisf[v] for v in range(n)], end=\"\\n\\n\")\n",
    "    \n",
    "    return [lisf[v].sum()/w for v in range(n)]\n",
    "\n",
    "# takes a list and the window value\n",
    "movingaverage(lis,w)"
   ]
  },
  {
   "cell_type": "code",
   "execution_count": null,
   "metadata": {},
   "outputs": [],
   "source": []
  }
 ],
 "metadata": {
  "kernelspec": {
   "display_name": "Python 3",
   "language": "python",
   "name": "python3"
  },
  "language_info": {
   "codemirror_mode": {
    "name": "ipython",
    "version": 3
   },
   "file_extension": ".py",
   "mimetype": "text/x-python",
   "name": "python",
   "nbconvert_exporter": "python",
   "pygments_lexer": "ipython3",
   "version": "3.8.5"
  }
 },
 "nbformat": 4,
 "nbformat_minor": 4
}
