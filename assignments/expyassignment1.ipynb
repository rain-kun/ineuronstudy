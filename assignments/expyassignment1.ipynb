{
 "cells": [
  {
   "cell_type": "markdown",
   "id": "upper-findings",
   "metadata": {},
   "source": [
    "## Question 1\n",
    "### remake of python's reduce function"
   ]
  },
  {
   "cell_type": "code",
   "execution_count": 1,
   "id": "compatible-meditation",
   "metadata": {},
   "outputs": [
    {
     "name": "stdout",
     "output_type": "stream",
     "text": [
      "2\n",
      "6\n",
      "24\n",
      "120\n"
     ]
    },
    {
     "data": {
      "text/plain": [
       "120"
      ]
     },
     "execution_count": 1,
     "metadata": {},
     "output_type": "execute_result"
    }
   ],
   "source": [
    "my = lambda x,y: x * y\n",
    "def myreduce(fun,lis):\n",
    "    ans = lis[0]\n",
    "    for v in range(1,len(lis)):\n",
    "        ans = fun(ans,lis[v])\n",
    "        print(ans)\n",
    "    return ans\n",
    "lis1 = [1,2,3,4,5]\n",
    "myreduce(my,lis1)"
   ]
  },
  {
   "cell_type": "markdown",
   "id": "happy-redhead",
   "metadata": {},
   "source": [
    "### remake of python's filter function"
   ]
  },
  {
   "cell_type": "code",
   "execution_count": 5,
   "id": "alleged-candle",
   "metadata": {},
   "outputs": [
    {
     "data": {
      "text/plain": [
       "[0, 2, 4]"
      ]
     },
     "execution_count": 5,
     "metadata": {},
     "output_type": "execute_result"
    }
   ],
   "source": [
    "my = lambda x: True if x%2 == 0 else False\n",
    "def myfilter(fun,lis):\n",
    "    relis = [0]\n",
    "    for v in range(len(lis)):\n",
    "        ans = fun(lis[v])\n",
    "        if ans is True:\n",
    "            relis.append(lis[v])\n",
    "    return relis\n",
    "lis1 = [1,2,3,4,5]\n",
    "myfilter(my,lis1)"
   ]
  },
  {
   "cell_type": "markdown",
   "id": "ruled-pattern",
   "metadata": {},
   "source": [
    "### Write List comprehensions to produce the following Lists"
   ]
  },
  {
   "cell_type": "code",
   "execution_count": 6,
   "id": "enabling-stockholm",
   "metadata": {},
   "outputs": [
    {
     "data": {
      "text/plain": [
       "['x', 'xx', 'xxx', 'xxxx', 'y', 'yy', 'yyy', 'yyyy', 'z', 'zz', 'zzz', 'zzzz']"
      ]
     },
     "execution_count": 6,
     "metadata": {},
     "output_type": "execute_result"
    }
   ],
   "source": [
    "# 1\n",
    "lis = ['x','y','z']\n",
    "ans = [v*k for v in lis for k in range(1,5)]\n",
    "ans"
   ]
  },
  {
   "cell_type": "code",
   "execution_count": 7,
   "id": "addressed-upgrade",
   "metadata": {},
   "outputs": [
    {
     "data": {
      "text/plain": [
       "['x', 'y', 'z', 'xx', 'yy', 'zz', 'xxx', 'yyy', 'zzz', 'xxxx', 'yyyy', 'zzzz']"
      ]
     },
     "execution_count": 7,
     "metadata": {},
     "output_type": "execute_result"
    }
   ],
   "source": [
    "lis = ['x','y','z']\n",
    "ans = [k*v for v in range(1,5) for k in lis]\n",
    "ans"
   ]
  },
  {
   "cell_type": "code",
   "execution_count": 8,
   "id": "several-attention",
   "metadata": {},
   "outputs": [
    {
     "data": {
      "text/plain": [
       "[[2], [3], [4], [3], [4], [5], [4], [5], [6]]"
      ]
     },
     "execution_count": 8,
     "metadata": {},
     "output_type": "execute_result"
    }
   ],
   "source": [
    "lis = [2,3,4,5,6]\n",
    "ans = [[lis[v]+k] for k in range(3) for v in range(3) ]\n",
    "ans"
   ]
  },
  {
   "cell_type": "code",
   "execution_count": 9,
   "id": "functional-reach",
   "metadata": {},
   "outputs": [
    {
     "data": {
      "text/plain": [
       "[[[2], [3], [4], [5]],\n",
       " [[3], [4], [5], [6]],\n",
       " [[4], [5], [6], [7]],\n",
       " [[5], [6], [7], [8]]]"
      ]
     },
     "execution_count": 9,
     "metadata": {},
     "output_type": "execute_result"
    }
   ],
   "source": [
    "lis = [2,3,4,5,6]\n",
    "ans = [[[lis[v]+k] for k in range(4)]for v in range(1) for v in range(4)]\n",
    "ans"
   ]
  },
  {
   "cell_type": "markdown",
   "id": "recognized-representative",
   "metadata": {},
   "source": [
    "### Implement a function longestWord() that takes a list of words and returns the longest one."
   ]
  },
  {
   "cell_type": "code",
   "execution_count": 16,
   "id": "aboriginal-label",
   "metadata": {},
   "outputs": [
    {
     "data": {
      "text/plain": [
       "4"
      ]
     },
     "execution_count": 16,
     "metadata": {},
     "output_type": "execute_result"
    }
   ],
   "source": [
    "def longestWord(wl):\n",
    "    lgt_len = 0\n",
    "    for i in wl:\n",
    "        if len(i) >= lgt_len:\n",
    "            lgt_len = len(i)\n",
    "            \n",
    "    return lgt_len\n",
    "    \n",
    "longestWord([\"a\", \"aas\", \"aa\", \"aaa\", \"a\", \"bab\", \"aabb\", \"a\", \"va\"])"
   ]
  },
  {
   "cell_type": "markdown",
   "id": "official-timing",
   "metadata": {},
   "source": [
    "### Write a Python Program(with class concepts) to find the area of the triangle using the below formula.\n",
    "\n",
    "## area = (s*(s-a)*(s-b)*(s-c)) ** 0.5\n",
    "\n",
    "Function to take the length of the sides of triangle from user should be defined in the parent\n",
    "class and function to calculate the area should be defined in subclass."
   ]
  },
  {
   "cell_type": "code",
   "execution_count": 17,
   "id": "therapeutic-occurrence",
   "metadata": {},
   "outputs": [],
   "source": [
    "class Side:\n",
    "    def __init__(this, a , b, c):\n",
    "        this.a = a\n",
    "        this.b = b\n",
    "        this.c = c\n",
    "        this.s = (a + b + c)/2\n",
    "\n",
    "        \n",
    "class Triangle(Side):\n",
    "    def __init__(this, *args):\n",
    "       super(Triangle,this).__init__(*args)\n",
    "        \n",
    "    def Triarea(this):\n",
    "        return (this.s*(this.s-this.a)*(this.s-this.b)*(this.s-this.c)) ** 0.5"
   ]
  },
  {
   "cell_type": "code",
   "execution_count": 18,
   "id": "impossible-river",
   "metadata": {},
   "outputs": [
    {
     "name": "stdout",
     "output_type": "stream",
     "text": [
      "side: a=5.0 b=5.0 c=5.0 s=7.5 Area=10.825317547305483\n"
     ]
    }
   ],
   "source": [
    "T = Triangle(5.0,5.0,5.0)\n",
    "print (\"side: a={} b={} c={} s={} Area={}\".format(T.a, T.b, T.c,T.s, T.Triarea()))"
   ]
  },
  {
   "cell_type": "markdown",
   "id": "arctic-galaxy",
   "metadata": {},
   "source": [
    "### Write a function filter_long_words() that takes a list of words and an integer n and returns the list of words that are longer than n."
   ]
  },
  {
   "cell_type": "code",
   "execution_count": 23,
   "id": "prerequisite-orleans",
   "metadata": {},
   "outputs": [
    {
     "data": {
      "text/plain": [
       "['sdfv', 'sdgs', 'dgbb']"
      ]
     },
     "execution_count": 23,
     "metadata": {},
     "output_type": "execute_result"
    }
   ],
   "source": [
    "lis1 = [\"sdf\", \"sf\", \"sdfv\", \"sdgs\", \"sf\", \"dgbb\"]\n",
    "def filter_long_words(lis, n):\n",
    "    mylis = []\n",
    "    for x in lis:\n",
    "        if len(x) > n:\n",
    "            mylis.append(x)\n",
    "    return mylis\n",
    "    \n",
    "filter_long_words(lis1, 3)"
   ]
  },
  {
   "cell_type": "markdown",
   "id": "premium-blair",
   "metadata": {},
   "source": [
    "### Write a Python program using function concept that maps list of words into a list of integers representing the lengths of the corresponding words.\n",
    "\n",
    "Hint: ​If a list [ ab,cde,erty] is passed on to the python function output should come as [2,3,4]\n",
    "Here 2,3 and 4 are the lengths of the words in the list."
   ]
  },
  {
   "cell_type": "code",
   "execution_count": 24,
   "id": "bibliographic-expression",
   "metadata": {},
   "outputs": [
    {
     "data": {
      "text/plain": [
       "[2, 3, 4, 4]"
      ]
     },
     "execution_count": 24,
     "metadata": {},
     "output_type": "execute_result"
    }
   ],
   "source": [
    "lis1 = [ \"ab\",\"cde\",\"erty\", \"yess\"]\n",
    "def map_lenof_words(lis):\n",
    "    mylis = []\n",
    "    for x in lis:\n",
    "        mylis.append(len(x))\n",
    "    return mylis\n",
    "\n",
    "map_lenof_words(lis1)"
   ]
  },
  {
   "cell_type": "markdown",
   "id": "dominican-polls",
   "metadata": {},
   "source": [
    "### Write a Python function which takes a character (i.e. a string of length 1) and returns True if it is a vowel, False otherwise."
   ]
  },
  {
   "cell_type": "code",
   "execution_count": 25,
   "id": "nuclear-arbor",
   "metadata": {},
   "outputs": [
    {
     "name": "stdout",
     "output_type": "stream",
     "text": [
      "True\n"
     ]
    },
    {
     "data": {
      "text/plain": [
       "True"
      ]
     },
     "execution_count": 25,
     "metadata": {},
     "output_type": "execute_result"
    }
   ],
   "source": [
    "\n",
    "vovels = ['a','e', 'i', 'o', 'u']\n",
    "\n",
    "# with normal function\n",
    "def checkvovel(x):\n",
    "    return True if x in vovels else False\n",
    "\n",
    "print(checkvovel('i'))\n",
    "\n",
    "# with lambda function\n",
    "func = lambda x: True if x in vovels else False\n",
    "\n",
    "func('i')"
   ]
  }
 ],
 "metadata": {
  "kernelspec": {
   "display_name": "Python 3",
   "language": "python",
   "name": "python3"
  },
  "language_info": {
   "codemirror_mode": {
    "name": "ipython",
    "version": 3
   },
   "file_extension": ".py",
   "mimetype": "text/x-python",
   "name": "python",
   "nbconvert_exporter": "python",
   "pygments_lexer": "ipython3",
   "version": "3.6.9"
  }
 },
 "nbformat": 4,
 "nbformat_minor": 5
}
